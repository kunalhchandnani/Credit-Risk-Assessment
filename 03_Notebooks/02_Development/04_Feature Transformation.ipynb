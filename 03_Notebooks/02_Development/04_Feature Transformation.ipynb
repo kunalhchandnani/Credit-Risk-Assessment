{
 "cells": [
  {
   "cell_type": "code",
   "execution_count": 1,
   "metadata": {},
   "outputs": [],
   "source": [
    "import numpy as np\n",
    "import pandas as pd\n",
    "import matplotlib.pyplot as plt\n",
    "%matplotlib inline\n",
    "from sklearn.preprocessing import OneHotEncoder\n",
    "from sklearn.preprocessing import OrdinalEncoder\n",
    "from category_encoders import TargetEncoder\n",
    "from sklearn.preprocessing import Binarizer\n",
    "from sklearn.preprocessing import QuantileTransformer\n",
    "from sklearn.feature_extraction.text import TfidfVectorizer\n",
    "from sklearn.preprocessing import MinMaxScaler\n",
    "from sklearn.feature_extraction.text import strip_accents_unicode\n",
    "\n",
    "#To increase autocomplete response speed\n",
    "%config IPCompleter.greedy=True"
   ]
  },
  {
   "cell_type": "code",
   "execution_count": 2,
   "metadata": {},
   "outputs": [],
   "source": [
    "project_path = 'C:\\\\Users\\\\kunal\\\\MACHINE LEARNING PROJECTS\\\\CREDIT RISK ASSESSMENT'"
   ]
  },
  {
   "cell_type": "code",
   "execution_count": 3,
   "metadata": {},
   "outputs": [],
   "source": [
    "cat_name = 'cat_result_eda.pickle'\n",
    "num_name = 'num_result_eda.pickle'"
   ]
  },
  {
   "cell_type": "code",
   "execution_count": 4,
   "metadata": {},
   "outputs": [],
   "source": [
    "cat = pd.read_pickle(project_path + '/02_Data/03_Work/' + cat_name)\n",
    "num = pd.read_pickle(project_path + '/02_Data/03_Work/' + num_name)"
   ]
  },
  {
   "cell_type": "code",
   "execution_count": 5,
   "metadata": {},
   "outputs": [
    {
     "data": {
      "text/plain": [
       "status\n",
       "Fully Paid                                             66315\n",
       "Current                                                54343\n",
       "Charged Off                                            16446\n",
       "Late (31-120 days)                                      1325\n",
       "In Grace Period                                          524\n",
       "Late (16-30 days)                                        282\n",
       "Does not meet the credit policy. Status:Fully Paid       118\n",
       "Does not meet the credit policy. Status:Charged Off       52\n",
       "Default                                                    2\n",
       "Name: count, dtype: int64"
      ]
     },
     "execution_count": 5,
     "metadata": {},
     "output_type": "execute_result"
    }
   ],
   "source": [
    "cat.status.value_counts()"
   ]
  },
  {
   "cell_type": "code",
   "execution_count": 6,
   "metadata": {},
   "outputs": [],
   "source": [
    "cat['target_pd'] = np.where(cat.status.isin(['Default',\n",
    "                                             'Charged Off',\n",
    "                                             'Does not meet the credit policy. Status:Charged Off']),1,0)\n",
    "cat.drop(columns='status',inplace=True)"
   ]
  },
  {
   "cell_type": "code",
   "execution_count": 7,
   "metadata": {},
   "outputs": [],
   "source": [
    "num['to_be_paid_amount'] = num.loan_amount - num.amortised_amount"
   ]
  },
  {
   "cell_type": "code",
   "execution_count": 8,
   "metadata": {},
   "outputs": [],
   "source": [
    "num['target_ead'] = num.to_be_paid_amount/num.loan_amount"
   ]
  },
  {
   "cell_type": "code",
   "execution_count": 9,
   "metadata": {},
   "outputs": [
    {
     "name": "stderr",
     "output_type": "stream",
     "text": [
      "C:\\Users\\kunal\\AppData\\Local\\Temp\\ipykernel_29968\\1798352552.py:2: FutureWarning: A value is trying to be set on a copy of a DataFrame or Series through chained assignment using an inplace method.\n",
      "The behavior will change in pandas 3.0. This inplace method will never work because the intermediate object on which we are setting values always behaves as a copy.\n",
      "\n",
      "For example, when doing 'df[col].method(value, inplace=True)', try using 'df.method({col: value}, inplace=True)' or df[col] = df[col].method(value) instead, to perform the operation inplace on the original object.\n",
      "\n",
      "\n",
      "  num.target_lgd.fillna(0,inplace=True)\n"
     ]
    }
   ],
   "source": [
    "num['target_lgd'] = 1 - num.recovered_amount/num.to_be_paid_amount\n",
    "num.target_lgd.fillna(0,inplace=True)"
   ]
  },
  {
   "cell_type": "code",
   "execution_count": 10,
   "metadata": {},
   "outputs": [
    {
     "data": {
      "text/plain": [
       "target_pd\n",
       "0    0.881642\n",
       "1    0.118358\n",
       "Name: proportion, dtype: float64"
      ]
     },
     "execution_count": 10,
     "metadata": {},
     "output_type": "execute_result"
    }
   ],
   "source": [
    "cat.target_pd.value_counts(normalize=True)"
   ]
  },
  {
   "cell_type": "code",
   "execution_count": 11,
   "metadata": {},
   "outputs": [
    {
     "data": {
      "text/html": [
       "<div>\n",
       "<style scoped>\n",
       "    .dataframe tbody tr th:only-of-type {\n",
       "        vertical-align: middle;\n",
       "    }\n",
       "\n",
       "    .dataframe tbody tr th {\n",
       "        vertical-align: top;\n",
       "    }\n",
       "\n",
       "    .dataframe thead th {\n",
       "        text-align: right;\n",
       "    }\n",
       "</style>\n",
       "<table border=\"1\" class=\"dataframe\">\n",
       "  <thead>\n",
       "    <tr style=\"text-align: right;\">\n",
       "      <th></th>\n",
       "      <th>count</th>\n",
       "      <th>mean</th>\n",
       "      <th>std</th>\n",
       "      <th>min</th>\n",
       "      <th>25%</th>\n",
       "      <th>50%</th>\n",
       "      <th>75%</th>\n",
       "      <th>max</th>\n",
       "    </tr>\n",
       "  </thead>\n",
       "  <tbody>\n",
       "    <tr>\n",
       "      <th>target_ead</th>\n",
       "      <td>139407.0</td>\n",
       "      <td>0.337926</td>\n",
       "      <td>0.369471</td>\n",
       "      <td>-0.000012</td>\n",
       "      <td>0.0</td>\n",
       "      <td>0.130824</td>\n",
       "      <td>0.726128</td>\n",
       "      <td>1.0</td>\n",
       "    </tr>\n",
       "    <tr>\n",
       "      <th>target_lgd</th>\n",
       "      <td>139407.0</td>\n",
       "      <td>0.509251</td>\n",
       "      <td>0.490327</td>\n",
       "      <td>-0.275957</td>\n",
       "      <td>0.0</td>\n",
       "      <td>0.851073</td>\n",
       "      <td>1.000000</td>\n",
       "      <td>1.0</td>\n",
       "    </tr>\n",
       "  </tbody>\n",
       "</table>\n",
       "</div>"
      ],
      "text/plain": [
       "               count      mean       std       min  25%       50%       75%  \\\n",
       "target_ead  139407.0  0.337926  0.369471 -0.000012  0.0  0.130824  0.726128   \n",
       "target_lgd  139407.0  0.509251  0.490327 -0.275957  0.0  0.851073  1.000000   \n",
       "\n",
       "            max  \n",
       "target_ead  1.0  \n",
       "target_lgd  1.0  "
      ]
     },
     "execution_count": 11,
     "metadata": {},
     "output_type": "execute_result"
    }
   ],
   "source": [
    "num[['target_ead','target_lgd']].describe().T"
   ]
  },
  {
   "cell_type": "code",
   "execution_count": 12,
   "metadata": {},
   "outputs": [
    {
     "name": "stderr",
     "output_type": "stream",
     "text": [
      "C:\\Users\\kunal\\AppData\\Local\\Temp\\ipykernel_29968\\2830589201.py:1: FutureWarning: A value is trying to be set on a copy of a DataFrame or Series through chained assignment using an inplace method.\n",
      "The behavior will change in pandas 3.0. This inplace method will never work because the intermediate object on which we are setting values always behaves as a copy.\n",
      "\n",
      "For example, when doing 'df[col].method(value, inplace=True)', try using 'df.method({col: value}, inplace=True)' or df[col] = df[col].method(value) instead, to perform the operation inplace on the original object.\n",
      "\n",
      "\n",
      "  num.target_ead.clip(0,1,inplace=True)\n",
      "C:\\Users\\kunal\\AppData\\Local\\Temp\\ipykernel_29968\\2830589201.py:2: FutureWarning: A value is trying to be set on a copy of a DataFrame or Series through chained assignment using an inplace method.\n",
      "The behavior will change in pandas 3.0. This inplace method will never work because the intermediate object on which we are setting values always behaves as a copy.\n",
      "\n",
      "For example, when doing 'df[col].method(value, inplace=True)', try using 'df.method({col: value}, inplace=True)' or df[col] = df[col].method(value) instead, to perform the operation inplace on the original object.\n",
      "\n",
      "\n",
      "  num.target_lgd.clip(0,1,inplace=True)\n"
     ]
    }
   ],
   "source": [
    "num.target_ead.clip(0,1,inplace=True)\n",
    "num.target_lgd.clip(0,1,inplace=True)"
   ]
  },
  {
   "cell_type": "code",
   "execution_count": 13,
   "metadata": {},
   "outputs": [
    {
     "data": {
      "text/html": [
       "<div>\n",
       "<style scoped>\n",
       "    .dataframe tbody tr th:only-of-type {\n",
       "        vertical-align: middle;\n",
       "    }\n",
       "\n",
       "    .dataframe tbody tr th {\n",
       "        vertical-align: top;\n",
       "    }\n",
       "\n",
       "    .dataframe thead th {\n",
       "        text-align: right;\n",
       "    }\n",
       "</style>\n",
       "<table border=\"1\" class=\"dataframe\">\n",
       "  <thead>\n",
       "    <tr style=\"text-align: right;\">\n",
       "      <th></th>\n",
       "      <th>count</th>\n",
       "      <th>mean</th>\n",
       "      <th>std</th>\n",
       "      <th>min</th>\n",
       "      <th>25%</th>\n",
       "      <th>50%</th>\n",
       "      <th>75%</th>\n",
       "      <th>max</th>\n",
       "    </tr>\n",
       "  </thead>\n",
       "  <tbody>\n",
       "    <tr>\n",
       "      <th>target_ead</th>\n",
       "      <td>139407.0</td>\n",
       "      <td>0.337926</td>\n",
       "      <td>0.369471</td>\n",
       "      <td>0.0</td>\n",
       "      <td>0.0</td>\n",
       "      <td>0.130824</td>\n",
       "      <td>0.726128</td>\n",
       "      <td>1.0</td>\n",
       "    </tr>\n",
       "    <tr>\n",
       "      <th>target_lgd</th>\n",
       "      <td>139407.0</td>\n",
       "      <td>0.509274</td>\n",
       "      <td>0.490300</td>\n",
       "      <td>0.0</td>\n",
       "      <td>0.0</td>\n",
       "      <td>0.851073</td>\n",
       "      <td>1.000000</td>\n",
       "      <td>1.0</td>\n",
       "    </tr>\n",
       "  </tbody>\n",
       "</table>\n",
       "</div>"
      ],
      "text/plain": [
       "               count      mean       std  min  25%       50%       75%  max\n",
       "target_ead  139407.0  0.337926  0.369471  0.0  0.0  0.130824  0.726128  1.0\n",
       "target_lgd  139407.0  0.509274  0.490300  0.0  0.0  0.851073  1.000000  1.0"
      ]
     },
     "execution_count": 13,
     "metadata": {},
     "output_type": "execute_result"
    }
   ],
   "source": [
    "num[['target_ead','target_lgd']].describe().T"
   ]
  },
  {
   "cell_type": "code",
   "execution_count": 14,
   "metadata": {},
   "outputs": [
    {
     "data": {
      "image/png": "[encoded data removed]",
      "text/plain": [
       "<Figure size 1600x500 with 2 Axes>"
      ]
     },
     "metadata": {},
     "output_type": "display_data"
    }
   ],
   "source": [
    "num[['target_ead','target_lgd']].plot(subplots=True ,kind='kde', layout=(1,2), figsize=(16,5), color=['darkblue','darkblue'],\n",
    "                                      alpha=0.8, title=['Target - Exposure at default','Target - Loss given default']);"
   ]
  },
  {
   "cell_type": "code",
   "execution_count": 15,
   "metadata": {},
   "outputs": [],
   "source": [
    "cat['home_ownership'] = cat.home_ownership.replace(['ANY','OTHER','NONE'],'MORTGAGE')\n",
    "\n",
    "cat['purpose'] = cat.purpose.replace(['wedding','renewable_energy','educational'],'other')\n",
    "\n",
    "cat['p_credit_cards_exceeding_75p_disc'] = pd.cut(num['p_credit_cards_exceeding_75p'], \n",
    "                                                  [-float(\"inf\"), 20, 80, float(\"inf\")], \n",
    "                                                  labels = ['00_Under_20p','01_20p_80p','02_Over_80p'])"
   ]
  },
  {
   "cell_type": "code",
   "execution_count": 16,
   "metadata": {},
   "outputs": [],
   "source": [
    "var_ohe = ['term', 'home_ownership', 'purpose']"
   ]
  },
  {
   "cell_type": "code",
   "execution_count": 17,
   "metadata": {},
   "outputs": [],
   "source": [
    "ohe = OneHotEncoder(sparse_output = False, handle_unknown='ignore')"
   ]
  },
  {
   "cell_type": "code",
   "execution_count": 18,
   "metadata": {},
   "outputs": [],
   "source": [
    "cat_ohe = ohe.fit_transform(cat[var_ohe])"
   ]
  },
  {
   "cell_type": "code",
   "execution_count": 19,
   "metadata": {},
   "outputs": [],
   "source": [
    "cat_ohe = pd.DataFrame(cat_ohe, columns = ohe.get_feature_names_out())"
   ]
  },
  {
   "cell_type": "code",
   "execution_count": 20,
   "metadata": {},
   "outputs": [],
   "source": [
    "var_oe = ['employment_length','scoring']"
   ]
  },
  {
   "cell_type": "code",
   "execution_count": 21,
   "metadata": {},
   "outputs": [],
   "source": [
    "order_employment_length = ['Unknown','< 1 year','1 year','2 years','3 years','4 years','5 years','6 years','7 years',\n",
    "                           '8 years','9 years','10+ years']\n",
    "\n",
    "order_scoring = ['A', 'B', 'C', 'D', 'E', 'F', 'G']"
   ]
  },
  {
   "cell_type": "code",
   "execution_count": 22,
   "metadata": {},
   "outputs": [],
   "source": [
    "oe = OrdinalEncoder(categories = [order_employment_length,order_scoring],\n",
    "                    handle_unknown = 'use_encoded_value',\n",
    "                    unknown_value = 12)"
   ]
  },
  {
   "cell_type": "code",
   "execution_count": 23,
   "metadata": {},
   "outputs": [],
   "source": [
    "cat_oe = oe.fit_transform(cat[var_oe])"
   ]
  },
  {
   "cell_type": "code",
   "execution_count": 24,
   "metadata": {},
   "outputs": [],
   "source": [
    "#Adding suffixes to feature names\n",
    "names_oe = [feature + '_oe' for feature in var_oe]\n",
    "\n",
    "#Saving as dataframe\n",
    "cat_oe = pd.DataFrame(cat_oe, columns = names_oe)"
   ]
  },
  {
   "cell_type": "code",
   "execution_count": 25,
   "metadata": {},
   "outputs": [],
   "source": [
    "var_te = ['employment_title', 'income_verification', 'p_credit_cards_exceeding_75p_disc']"
   ]
  },
  {
   "cell_type": "code",
   "execution_count": 26,
   "metadata": {},
   "outputs": [],
   "source": [
    "te = TargetEncoder(min_samples_leaf=100, return_df = False)"
   ]
  },
  {
   "cell_type": "code",
   "execution_count": 27,
   "metadata": {},
   "outputs": [],
   "source": [
    "cat_te_pd = te.fit_transform(cat[var_te], y = cat[['target_pd']])\n",
    "cat_te_ead = te.fit_transform(cat[var_te], y = num[['target_ead']])\n",
    "cat_te_lgd = te.fit_transform(cat[var_te], y = num[['target_lgd']])"
   ]
  },
  {
   "cell_type": "code",
   "execution_count": 28,
   "metadata": {},
   "outputs": [],
   "source": [
    "#Adding suffixes to feature names\n",
    "names_te_pd = [feature + '_te_pd' for feature in var_te]\n",
    "names_te_ead = [feature + '_te_ead' for feature in var_te]\n",
    "names_te_lgd = [feature + '_te_lgd' for feature in var_te]\n",
    "\n",
    "#Saving as dataframe\n",
    "cat_te_pd = pd.DataFrame(cat_te_pd, columns = names_te_pd)\n",
    "cat_te_ead = pd.DataFrame(cat_te_ead, columns = names_te_ead)\n",
    "cat_te_lgd = pd.DataFrame(cat_te_lgd, columns = names_te_lgd)"
   ]
  },
  {
   "cell_type": "code",
   "execution_count": 29,
   "metadata": {},
   "outputs": [],
   "source": [
    "stop_words = pd.read_csv(project_path + '/01_Documents/nlp_stop_words.txt', names = ['word'])\n",
    "stop_words['word_clean'] = stop_words.word.transform(strip_accents_unicode)"
   ]
  },
  {
   "cell_type": "code",
   "execution_count": 30,
   "metadata": {},
   "outputs": [],
   "source": [
    "tfidf = TfidfVectorizer(strip_accents = 'unicode',\n",
    "                        stop_words = stop_words.word_clean.to_list(),\n",
    "                        max_df = 0.7,\n",
    "                        min_df = 50,\n",
    "                        ngram_range = (1,3),\n",
    "                        max_features = 50)"
   ]
  },
  {
   "cell_type": "code",
   "execution_count": 31,
   "metadata": {},
   "outputs": [
    {
     "name": "stderr",
     "output_type": "stream",
     "text": [
      "<>:1: SyntaxWarning: invalid escape sequence '\\d'\n",
      "<>:1: SyntaxWarning: invalid escape sequence '\\d'\n",
      "C:\\Users\\kunal\\AppData\\Local\\Temp\\ipykernel_29968\\3026936738.py:1: SyntaxWarning: invalid escape sequence '\\d'\n",
      "  chars_to_replace = ['\\d+','//','>','br']\n",
      "c:\\Users\\kunal\\AppData\\Local\\Programs\\Python\\Python312\\Lib\\site-packages\\sklearn\\feature_extraction\\text.py:408: UserWarning: Your stop_words may be inconsistent with your preprocessing. Tokenizing the stop words generated tokens ['ain', 'al', 'couldn', 'daren', 'didn', 'doesn', 'hadn', 'hasn', 'haven', 'isn', 'itse', 'll', 'mayn', 'mightn', 'mon', 'mustn', 'myse', 'needn', 'oughtn', 'shan', 'shouldn', 've', 'wasn', 'weren', 'won', 'wouldn'] not in stop_words.\n",
      "  warnings.warn(\n"
     ]
    }
   ],
   "source": [
    "chars_to_replace = ['\\d+','//','>','br']\n",
    "\n",
    "description = tfidf.fit_transform(cat.description.transform(strip_accents_unicode) \\\n",
    "                                     .str.replace('|'.join(chars_to_replace), '', regex=True))"
   ]
  },
  {
   "cell_type": "code",
   "execution_count": 32,
   "metadata": {},
   "outputs": [
    {
     "data": {
      "text/plain": [
       "{'borrower': 1,\n",
       " 'loan': 28,\n",
       " 'borrower loan': 5,\n",
       " 'credit': 16,\n",
       " 'card': 10,\n",
       " 'debt': 20,\n",
       " 'pay': 36,\n",
       " 'payment': 40,\n",
       " 'cards': 12,\n",
       " 'higher': 26,\n",
       " 'consolidate': 13,\n",
       " 'payments': 41,\n",
       " 'month': 33,\n",
       " 'credit card': 17,\n",
       " 'card debt': 11,\n",
       " 'loan pay': 30,\n",
       " 'credit cards': 19,\n",
       " 'credit card debt': 18,\n",
       " 'years': 49,\n",
       " 'borrower consolidate': 2,\n",
       " 'consolidate credit': 14,\n",
       " 'free': 22,\n",
       " 'pay credit': 37,\n",
       " 'year': 48,\n",
       " 'business': 8,\n",
       " 'bills': 0,\n",
       " 'rates': 44,\n",
       " 'work': 47,\n",
       " 'monthly': 34,\n",
       " 'paying': 39,\n",
       " 'rate': 43,\n",
       " 'time': 46,\n",
       " 'plan': 42,\n",
       " 'car': 9,\n",
       " 'loans': 31,\n",
       " 'good': 23,\n",
       " 'job': 27,\n",
       " 'borrower pay': 6,\n",
       " 'money': 32,\n",
       " 'borrower pay credit': 7,\n",
       " 'loan consolidate': 29,\n",
       " 'pay credit cards': 38,\n",
       " 'consolidation': 15,\n",
       " 'borrower debt': 4,\n",
       " 'debt consolidation': 21,\n",
       " 'borrower credit': 3,\n",
       " 'high': 24,\n",
       " 'high credit': 25,\n",
       " 'stable': 45,\n",
       " 'paid': 35}"
      ]
     },
     "execution_count": 32,
     "metadata": {},
     "output_type": "execute_result"
    }
   ],
   "source": [
    "tfidf.vocabulary_"
   ]
  },
  {
   "cell_type": "code",
   "execution_count": 33,
   "metadata": {},
   "outputs": [],
   "source": [
    "cat.drop(columns='description',inplace=True)"
   ]
  },
  {
   "cell_type": "code",
   "execution_count": 34,
   "metadata": {},
   "outputs": [],
   "source": [
    "var_bin = ['n_derogations']"
   ]
  },
  {
   "cell_type": "code",
   "execution_count": 35,
   "metadata": {},
   "outputs": [],
   "source": [
    "binarizer = Binarizer(threshold=0)"
   ]
  },
  {
   "cell_type": "code",
   "execution_count": 36,
   "metadata": {},
   "outputs": [],
   "source": [
    "num_bin = binarizer.fit_transform(num[var_bin])"
   ]
  },
  {
   "cell_type": "code",
   "execution_count": 37,
   "metadata": {},
   "outputs": [],
   "source": [
    "#Adding suffixes to feature names\n",
    "names_bin = [feature + '_bin' for feature in var_bin]\n",
    "\n",
    "#Saving as dataframe\n",
    "num_bin = pd.DataFrame(num_bin,columns = names_bin)"
   ]
  },
  {
   "cell_type": "code",
   "execution_count": 38,
   "metadata": {},
   "outputs": [],
   "source": [
    "var_qt = ['annual_income', 'dti', 'installment', 'interest_rate', 'loan_amount',  \n",
    "           'n_credit_lines', 'n_mortages', 'revolving_utilization']"
   ]
  },
  {
   "cell_type": "code",
   "execution_count": 39,
   "metadata": {},
   "outputs": [],
   "source": [
    "qt = QuantileTransformer(output_distribution='normal')"
   ]
  },
  {
   "cell_type": "code",
   "execution_count": 40,
   "metadata": {},
   "outputs": [],
   "source": [
    "num_qt = qt.fit_transform(num[var_qt])"
   ]
  },
  {
   "cell_type": "code",
   "execution_count": 41,
   "metadata": {},
   "outputs": [],
   "source": [
    "#Adding suffixes to feature names\n",
    "names_qt = [feature + '_qt' for feature in var_qt]\n",
    "\n",
    "#Saving as dataframe\n",
    "num_qt = pd.DataFrame(num_qt,columns = names_qt)"
   ]
  },
  {
   "cell_type": "code",
   "execution_count": 42,
   "metadata": {},
   "outputs": [],
   "source": [
    "# PD model:\n",
    "df_res_pd = pd.concat([cat_oe,cat_te_pd,num_qt],axis=1)\n",
    "\n",
    "# EAD model:\n",
    "df_res_ead = pd.concat([cat_oe,cat_te_ead,num_qt],axis=1)\n",
    "\n",
    "# LGD model:\n",
    "df_res_lgd = pd.concat([cat_oe,cat_te_lgd,num_qt],axis=1)"
   ]
  },
  {
   "cell_type": "code",
   "execution_count": 43,
   "metadata": {},
   "outputs": [],
   "source": [
    "# PD model:\n",
    "var_mms_pd = df_res_pd.columns\n",
    "\n",
    "# EAD model:\n",
    "var_mms_ead = df_res_ead.columns\n",
    "\n",
    "# LGD model:\n",
    "var_mms_lgd = df_res_lgd.columns"
   ]
  },
  {
   "cell_type": "code",
   "execution_count": 44,
   "metadata": {},
   "outputs": [],
   "source": [
    "mms = MinMaxScaler()"
   ]
  },
  {
   "cell_type": "code",
   "execution_count": 45,
   "metadata": {},
   "outputs": [],
   "source": [
    "# PD model:\n",
    "df_mms_pd = mms.fit_transform(df_res_pd[var_mms_pd])\n",
    "\n",
    "# EAD model:\n",
    "df_mms_ead = mms.fit_transform(df_res_ead[var_mms_ead])\n",
    "\n",
    "# LGD model:\n",
    "df_mms_lgd = mms.fit_transform(df_res_lgd[var_mms_lgd])"
   ]
  },
  {
   "cell_type": "code",
   "execution_count": 46,
   "metadata": {},
   "outputs": [],
   "source": [
    "# Adding suffixes to feature names\n",
    "    # PD model:\n",
    "names_mms_pd = [feature + '_mms' for feature in var_mms_pd]\n",
    "    # EAD model:\n",
    "names_mms_ead = [feature + '_mms' for feature in var_mms_ead]   \n",
    "    # LGD model:\n",
    "names_mms_lgd = [feature + '_mms' for feature in var_mms_lgd]\n",
    "\n",
    "\n",
    "# Saving as dataframe\n",
    "    # PD model:\n",
    "df_mms_pd = pd.DataFrame(df_mms_pd,columns = names_mms_pd)\n",
    "    # EAD model:\n",
    "df_mms_ead = pd.DataFrame(df_mms_ead,columns = var_mms_ead)   \n",
    "    # LGD model:\n",
    "df_mms_lgd = pd.DataFrame(df_mms_lgd,columns = var_mms_lgd)"
   ]
  },
  {
   "cell_type": "code",
   "execution_count": 47,
   "metadata": {},
   "outputs": [],
   "source": [
    "to_include_pd = [cat_ohe, num_bin, df_mms_pd, cat.reset_index()[['client_id','target_pd']]]"
   ]
  },
  {
   "cell_type": "code",
   "execution_count": 48,
   "metadata": {},
   "outputs": [],
   "source": [
    "df_pd = pd.concat(to_include_pd,axis=1).set_index('client_id')"
   ]
  },
  {
   "cell_type": "code",
   "execution_count": 49,
   "metadata": {},
   "outputs": [],
   "source": [
    "to_include_ead = [cat_ohe, num_bin, df_mms_ead, num.reset_index()[['client_id','target_ead']]]"
   ]
  },
  {
   "cell_type": "code",
   "execution_count": 50,
   "metadata": {},
   "outputs": [],
   "source": [
    "df_ead = pd.concat(to_include_ead,axis=1).set_index('client_id')"
   ]
  },
  {
   "cell_type": "code",
   "execution_count": 51,
   "metadata": {},
   "outputs": [],
   "source": [
    "to_include_lgd = [cat_ohe, num_bin, df_mms_lgd, num.reset_index()[['client_id','target_lgd']]]"
   ]
  },
  {
   "cell_type": "code",
   "execution_count": 52,
   "metadata": {},
   "outputs": [],
   "source": [
    "df_lgd = pd.concat(to_include_lgd,axis=1).set_index('client_id')"
   ]
  },
  {
   "cell_type": "code",
   "execution_count": 53,
   "metadata": {},
   "outputs": [],
   "source": [
    "path_df_input_pd = project_path + '/02_Data/03_Work/' + 'df_input_pd.pickle'\n",
    "path_df_input_ead = project_path + '/02_Data/03_Work/' + 'df_input_ead.pickle'\n",
    "path_df_input_lgd = project_path + '/02_Data/03_Work/' + 'df_input_lgd.pickle'"
   ]
  },
  {
   "cell_type": "code",
   "execution_count": 54,
   "metadata": {},
   "outputs": [],
   "source": [
    "df_pd.to_pickle(path_df_input_pd)\n",
    "df_ead.to_pickle(path_df_input_ead)\n",
    "df_lgd.to_pickle(path_df_input_lgd)"
   ]
  }
 ],
 "metadata": {
  "kernelspec": {
   "display_name": "Python 3",
   "language": "python",
   "name": "python3"
  },
  "language_info": {
   "codemirror_mode": {
    "name": "ipython",
    "version": 3
   },
   "file_extension": ".py",
   "mimetype": "text/x-python",
   "name": "python",
   "nbconvert_exporter": "python",
   "pygments_lexer": "ipython3",
   "version": "3.12.4"
  }
 },
 "nbformat": 4,
 "nbformat_minor": 2
}
